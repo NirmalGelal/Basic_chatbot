{
 "cells": [
  {
   "cell_type": "markdown",
   "id": "ce678b2a",
   "metadata": {},
   "source": [
    "# Importing the libraries"
   ]
  },
  {
   "cell_type": "code",
   "execution_count": 1,
   "id": "d20fa55d",
   "metadata": {},
   "outputs": [
    {
     "name": "stderr",
     "output_type": "stream",
     "text": [
      "[nltk_data] Downloading package punkt to\n",
      "[nltk_data]     C:\\Users\\DELL\\AppData\\Roaming\\nltk_data...\n",
      "[nltk_data]   Package punkt is already up-to-date!\n",
      "[nltk_data] Downloading package wordnet to\n",
      "[nltk_data]     C:\\Users\\DELL\\AppData\\Roaming\\nltk_data...\n",
      "[nltk_data]   Package wordnet is already up-to-date!\n"
     ]
    }
   ],
   "source": [
    "import numpy as np\n",
    "import nltk\n",
    "import string\n",
    "import re\n",
    "import random\n",
    "from sklearn.feature_extraction.text import TfidfVectorizer\n",
    "from sklearn.metrics.pairwise import cosine_similarity\n",
    "nltk.download('punkt')\n",
    "nltk.download('wordnet')\n",
    "from sklearn.feature_extraction.text import TfidfVectorizer\n",
    "from sklearn.metrics.pairwise import cosine_similarity"
   ]
  },
  {
   "cell_type": "markdown",
   "id": "482b4243",
   "metadata": {},
   "source": [
    "# Preprocess the data"
   ]
  },
  {
   "cell_type": "code",
   "execution_count": 2,
   "id": "25813d5c",
   "metadata": {},
   "outputs": [],
   "source": [
    "with open('data.txt', encoding = 'utf-8') as file:\n",
    "    raw_text = file.read()\n",
    "\n",
    "#function that tokenize, lemmatize and eliminate unwanted patterns which returns set of tokens as list.\n",
    "def preprocess(text = ''):\n",
    "    sent_tokens_raw = nltk.sent_tokenize(text.lower())\n",
    "    lemmer = nltk.stem.WordNetLemmatizer()\n",
    "    sent_tokens_raw = [lemmer.lemmatize(token) for token in sent_tokens_raw]\n",
    "    \n",
    "    for i in range(len(sent_tokens_raw)):\n",
    "        #pattern to remove number in square brackets like [5],[543],etc\n",
    "        pattern1 = \"\\[[0-9]+[0-9]?[0-9]?\\]\" \n",
    "        #pattern to remove \\n\n",
    "        pattern2 = \"\\n\"\n",
    "        sent_tokens_raw[i]= re.sub(pattern1,'',sent_tokens_raw[i])\n",
    "        sent_tokens_raw[i]= re.sub(pattern2,'',sent_tokens_raw[i])\n",
    "    return sent_tokens_raw\n",
    "\n"
   ]
  },
  {
   "cell_type": "markdown",
   "id": "07cdcb67",
   "metadata": {},
   "source": [
    "# Function to greet"
   ]
  },
  {
   "cell_type": "code",
   "execution_count": 3,
   "id": "fe8fb4dd",
   "metadata": {},
   "outputs": [],
   "source": [
    "#initial seed for possible greeting inputs and its outputs.\n",
    "#You can add if something is missing in the respective input tuples or output list.\n",
    "\n",
    "GREETING_INPUTS = (\"hello\", \"hi\", \"greetings\", \"sup\", \"what's up\", \"hey\", \"what is up\", \"yo\", \"wassup\")\n",
    "GREETING_RESPONSES = [\"hi\", \"hey\", \"*nods*\", \"hi there\", \"hello\", \"I am glad! You are talking to me\"]\n",
    "\n",
    "#function to check if greeting output is necessary and returns greetings if greeting input is fed.\n",
    "def greeting(sentence):\n",
    "    for word in sentence.split():\n",
    "        if word.lower() in GREETING_INPUTS:\n",
    "            return random.choice(GREETING_RESPONSES)\n"
   ]
  },
  {
   "cell_type": "markdown",
   "id": "291399e9",
   "metadata": {},
   "source": [
    "# Core function"
   ]
  },
  {
   "cell_type": "code",
   "execution_count": null,
   "id": "0858dc71",
   "metadata": {},
   "outputs": [
    {
     "name": "stdout",
     "output_type": "stream",
     "text": [
      "BOT  : I am a bot. You can ask me anything about Apple. \n",
      "USER : when did apple started\n",
      "BOT  :  in 2007, apple started yearly audits of all its suppliers regarding worker's rights, slowly raising standards and pruning suppliers that did not comply.\n"
     ]
    }
   ],
   "source": [
    "flag = True\n",
    "print(\"BOT  : I am a bot. You can ask me anything about Apple. \")\n",
    "\n",
    "#runs until flag is false\n",
    "while(flag==True):\n",
    "    user_response = input(\"USER : \")\n",
    "    user_response=user_response.lower()\n",
    "    \n",
    "    #until user says bye\n",
    "    if(user_response!='bye'):\n",
    "        \n",
    "        if(user_response=='thanks' or user_response=='thank you' ):\n",
    "            flag=False\n",
    "            print(\"BOT  : You are welcome.. 😊\")\n",
    "        else:\n",
    "            if(greeting(user_response)!=None):\n",
    "                print(\"BOT  : \"+greeting(user_response))\n",
    "                \n",
    "            else:\n",
    "                sent_tokens = preprocess(text = raw_text)\n",
    "                sent_tokens = sent_tokens + preprocess(user_response)\n",
    "                vec = TfidfVectorizer(stop_words='english')\n",
    "                tfidf = vec.fit_transform(sent_tokens)\n",
    "                vals = cosine_similarity(tfidf[-1],tfidf)\n",
    "                idx = vals.argsort()[0][-2]\n",
    "                flat = vals.flatten()\n",
    "                flat.sort()\n",
    "                req_tfidf = flat[-2]\n",
    "                if(req_tfidf==0):\n",
    "                    print(\"BOT  : I am sorry! I don't understand you\")\n",
    "                else:\n",
    "                    print(\"BOT  : \"+ sent_tokens[idx])\n",
    "                sent_tokens.pop()\n",
    "                \n",
    "            \n",
    "    else:\n",
    "        flag=False\n",
    "        print(\"BOT  : Bye! take care..\")\n",
    "        "
   ]
  },
  {
   "cell_type": "code",
   "execution_count": null,
   "id": "cd1e7bc5",
   "metadata": {},
   "outputs": [],
   "source": []
  }
 ],
 "metadata": {
  "kernelspec": {
   "display_name": "Python 3 (ipykernel)",
   "language": "python",
   "name": "python3"
  },
  "language_info": {
   "codemirror_mode": {
    "name": "ipython",
    "version": 3
   },
   "file_extension": ".py",
   "mimetype": "text/x-python",
   "name": "python",
   "nbconvert_exporter": "python",
   "pygments_lexer": "ipython3",
   "version": "3.9.7"
  }
 },
 "nbformat": 4,
 "nbformat_minor": 5
}
